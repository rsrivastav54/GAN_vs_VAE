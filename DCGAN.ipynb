{
 "cells": [
  {
   "cell_type": "code",
   "execution_count": null,
   "metadata": {
    "executionInfo": {
     "elapsed": 3,
     "status": "ok",
     "timestamp": 1681870675154,
     "user": {
      "displayName": "Rishabh Srivastav",
      "userId": "14832860422721937078"
     },
     "user_tz": 240
    },
    "id": "GyFoAMxU0_Q3"
   },
   "outputs": [],
   "source": [
    "import numpy as np\n",
    "\n",
    "%matplotlib inline\n",
    "import matplotlib.pyplot as plt"
   ]
  },
  {
   "cell_type": "code",
   "execution_count": null,
   "metadata": {
    "executionInfo": {
     "elapsed": 3,
     "status": "ok",
     "timestamp": 1681870676546,
     "user": {
      "displayName": "Rishabh Srivastav",
      "userId": "14832860422721937078"
     },
     "user_tz": 240
    },
    "id": "pj0jRFvb1APf"
   },
   "outputs": [],
   "source": [
    "from keras.datasets import mnist\n",
    "from keras.models import Sequential, Model\n",
    "from keras.layers import Input, Dense, LeakyReLU, BatchNormalization, ReLU\n",
    "from keras.layers import Conv2D, Conv2DTranspose, Reshape, Flatten\n",
    "from keras.optimizers import Adam\n",
    "from keras import initializers\n",
    "from keras.utils import plot_model\n",
    "from keras import backend as K"
   ]
  },
  {
   "cell_type": "code",
   "execution_count": null,
   "metadata": {
    "executionInfo": {
     "elapsed": 393,
     "status": "ok",
     "timestamp": 1681870679035,
     "user": {
      "displayName": "Rishabh Srivastav",
      "userId": "14832860422721937078"
     },
     "user_tz": 240
    },
    "id": "_KDlmab43Dsd"
   },
   "outputs": [],
   "source": [
    "# load dataset\n",
    "(X_train, y_train), (X_test, y_test) = mnist.load_data()"
   ]
  },
  {
   "cell_type": "code",
   "execution_count": null,
   "metadata": {
    "colab": {
     "base_uri": "https://localhost:8080/",
     "height": 371
    },
    "executionInfo": {
     "elapsed": 683,
     "status": "ok",
     "timestamp": 1681870682868,
     "user": {
      "displayName": "Rishabh Srivastav",
      "userId": "14832860422721937078"
     },
     "user_tz": 240
    },
    "id": "cCL3Du_p3GNG",
    "outputId": "bc4d218f-1b79-48bc-8d0f-c0c7c1f05329"
   },
   "outputs": [],
   "source": [
    "fig = plt.figure()\n",
    "for i in range(10):\n",
    "    plt.subplot(2, 5, i+1)\n",
    "    x_y = X_train[y_train == i]\n",
    "    plt.imshow(x_y[0], cmap='gray', interpolation='none')\n",
    "    plt.title(\"Class %d\" % (i))\n",
    "    plt.xticks([])\n",
    "    plt.yticks([])\n",
    "    \n",
    "plt.tight_layout()"
   ]
  },
  {
   "cell_type": "code",
   "execution_count": null,
   "metadata": {
    "colab": {
     "base_uri": "https://localhost:8080/"
    },
    "executionInfo": {
     "elapsed": 391,
     "status": "ok",
     "timestamp": 1681870685330,
     "user": {
      "displayName": "Rishabh Srivastav",
      "userId": "14832860422721937078"
     },
     "user_tz": 240
    },
    "id": "aoel7F_j3Ivz",
    "outputId": "c7aaed58-5e60-4fd9-aa70-287a61b533e9"
   },
   "outputs": [],
   "source": [
    "print('X_train.shape', X_train.shape)\n",
    "\n",
    "if K.image_data_format() == 'channels_first':\n",
    "    X_train = X_train.reshape(X_train.shape[0], 1, 28, 28)\n",
    "    X_test = X_test.reshape(X_test.shape[0], 1, 28, 28)\n",
    "    input_shape = (1, 28, 28)\n",
    "else:\n",
    "    X_train = X_train.reshape(X_train.shape[0], 28, 28, 1)\n",
    "    X_test = X_test.reshape(X_test.shape[0], 28, 28, 1)\n",
    "    input_shape = (28, 28, 1)\n",
    "\n",
    "# the generator is using tanh activation, for which we need to preprocess \n",
    "# the image data into the range between -1 and 1.\n",
    "\n",
    "X_train = np.float32(X_train)\n",
    "X_train = (X_train / 255 - 0.5) * 2\n",
    "X_train = np.clip(X_train, -1, 1)\n",
    "\n",
    "print('X_train reshape:', X_train.shape)"
   ]
  },
  {
   "cell_type": "code",
   "execution_count": null,
   "metadata": {
    "executionInfo": {
     "elapsed": 3697,
     "status": "ok",
     "timestamp": 1681870690732,
     "user": {
      "displayName": "Rishabh Srivastav",
      "userId": "14832860422721937078"
     },
     "user_tz": 240
    },
    "id": "E6TDu4Bq3LKl"
   },
   "outputs": [],
   "source": [
    "# latent space dimension\n",
    "latent_dim = 100\n",
    "\n",
    "# imagem dimension 28x28\n",
    "img_dim = 784\n",
    "\n",
    "init = initializers.RandomNormal(stddev=0.02)\n",
    "\n",
    "# Generator network\n",
    "generator = Sequential()\n",
    "\n",
    "# FC: 7x7x256\n",
    "generator.add(Dense(7*7*128, input_shape=(latent_dim,), kernel_initializer=init))\n",
    "generator.add(Reshape((7, 7, 128)))\n",
    "\n",
    "# Conv 1: 14x14x128\n",
    "generator.add(Conv2DTranspose(64, kernel_size=3, strides=2, padding='same'))\n",
    "generator.add(BatchNormalization(momentum=0.8))\n",
    "generator.add(ReLU(0.2))\n",
    "\n",
    "# Conv 2: 28x28x64\n",
    "generator.add(Conv2DTranspose(32, kernel_size=3, strides=1, padding='same'))\n",
    "generator.add(BatchNormalization(momentum=0.8))\n",
    "generator.add(ReLU(0.2))\n",
    "\n",
    "# # Conv 3: 28x28x32\n",
    "# generator.add(Conv2DTranspose(32, kernel_size=3, strides=1, padding='same'))\n",
    "# generator.add(BatchNormalization(momentum=0.8))\n",
    "# generator.add(ReLU(0.2))\n",
    "\n",
    "# Conv 4: 28x28x1\n",
    "generator.add(Conv2DTranspose(1, kernel_size=3, strides=2, padding='same', activation='tanh'))"
   ]
  },
  {
   "cell_type": "code",
   "execution_count": null,
   "metadata": {
    "colab": {
     "base_uri": "https://localhost:8080/"
    },
    "executionInfo": {
     "elapsed": 23,
     "status": "ok",
     "timestamp": 1681870690732,
     "user": {
      "displayName": "Rishabh Srivastav",
      "userId": "14832860422721937078"
     },
     "user_tz": 240
    },
    "id": "q6G-Ip5gbmU7",
    "outputId": "d1d77f44-f9ea-4a84-ec0b-02a53e346730"
   },
   "outputs": [],
   "source": [
    "# prints a summary representation of your model\n",
    "generator.summary()"
   ]
  },
  {
   "cell_type": "code",
   "execution_count": null,
   "metadata": {
    "colab": {
     "base_uri": "https://localhost:8080/"
    },
    "executionInfo": {
     "elapsed": 6,
     "status": "ok",
     "timestamp": 1681870693728,
     "user": {
      "displayName": "Rishabh Srivastav",
      "userId": "14832860422721937078"
     },
     "user_tz": 240
    },
    "id": "jDYRgQjJbo3w",
    "outputId": "08ca04ce-f2c5-44a0-f420-f779acd686c3"
   },
   "outputs": [],
   "source": [
    "# Discriminator network\n",
    "discriminator = Sequential()\n",
    "\n",
    "# Conv 1: 14x14x64\n",
    "discriminator.add(Conv2D(32, kernel_size=3, strides=2, padding='same',\n",
    "                         input_shape=(28, 28, 1), kernel_initializer=init))\n",
    "discriminator.add(LeakyReLU(0.2))\n",
    "\n",
    "# Conv 2:\n",
    "discriminator.add(Conv2D(64, kernel_size=3, strides=2, padding='same'))\n",
    "discriminator.add(BatchNormalization(momentum=0.8))\n",
    "discriminator.add(LeakyReLU(0.2))\n",
    "\n",
    "# Conv 3: \n",
    "discriminator.add(Conv2D(128, kernel_size=3, strides=2, padding='same'))\n",
    "discriminator.add(BatchNormalization(momentum=0.8))\n",
    "discriminator.add(LeakyReLU(0.2))\n",
    "\n",
    "# FC\n",
    "discriminator.add(Flatten())\n",
    "\n",
    "# Output\n",
    "discriminator.add(Dense(1, activation='sigmoid'))"
   ]
  },
  {
   "cell_type": "code",
   "execution_count": null,
   "metadata": {
    "colab": {
     "base_uri": "https://localhost:8080/"
    },
    "executionInfo": {
     "elapsed": 14,
     "status": "ok",
     "timestamp": 1681870695558,
     "user": {
      "displayName": "Rishabh Srivastav",
      "userId": "14832860422721937078"
     },
     "user_tz": 240
    },
    "id": "Io-O-X-8brV5",
    "outputId": "6dd99799-1298-4751-d2dc-b99e32085e03"
   },
   "outputs": [],
   "source": [
    "# prints a summary representation of your model\n",
    "discriminator.summary()"
   ]
  },
  {
   "cell_type": "code",
   "execution_count": null,
   "metadata": {
    "colab": {
     "base_uri": "https://localhost:8080/"
    },
    "executionInfo": {
     "elapsed": 5,
     "status": "ok",
     "timestamp": 1681870697919,
     "user": {
      "displayName": "Rishabh Srivastav",
      "userId": "14832860422721937078"
     },
     "user_tz": 240
    },
    "id": "ufKAYWlAbufO",
    "outputId": "f73d2e9c-80f0-412e-a628-0c8f85344459"
   },
   "outputs": [],
   "source": [
    "# Optimizer\n",
    "optimizer = Adam(lr=0.0002, beta_1=0.5)\n",
    "\n",
    "discriminator.compile(optimizer=optimizer, loss='binary_crossentropy', metrics=['binary_accuracy'])\n"
   ]
  },
  {
   "cell_type": "code",
   "execution_count": null,
   "metadata": {
    "executionInfo": {
     "elapsed": 1,
     "status": "ok",
     "timestamp": 1681870700008,
     "user": {
      "displayName": "Rishabh Srivastav",
      "userId": "14832860422721937078"
     },
     "user_tz": 240
    },
    "id": "LkcN884tbxlA"
   },
   "outputs": [],
   "source": [
    "discriminator.trainable = False\n",
    "\n",
    "z = Input(shape=(latent_dim,))\n",
    "img = generator(z)\n",
    "decision = discriminator(img)\n",
    "d_g = Model(inputs=z, outputs=decision)\n",
    "\n",
    "d_g.compile(optimizer=optimizer, loss='binary_crossentropy', metrics=['binary_accuracy'])"
   ]
  },
  {
   "cell_type": "code",
   "execution_count": null,
   "metadata": {
    "colab": {
     "base_uri": "https://localhost:8080/"
    },
    "executionInfo": {
     "elapsed": 6,
     "status": "ok",
     "timestamp": 1681870701067,
     "user": {
      "displayName": "Rishabh Srivastav",
      "userId": "14832860422721937078"
     },
     "user_tz": 240
    },
    "id": "U_75MLTUb5wS",
    "outputId": "1b4976e0-462c-4b06-9e0e-83561f62c7c2"
   },
   "outputs": [],
   "source": [
    "# prints a summary representation of your model\n",
    "d_g.summary()"
   ]
  },
  {
   "cell_type": "code",
   "execution_count": null,
   "metadata": {
    "colab": {
     "base_uri": "https://localhost:8080/",
     "height": 1000
    },
    "id": "cbdi3UFpb7je",
    "outputId": "b226f62b-7108-4f3a-a439-bd370efa6dad"
   },
   "outputs": [],
   "source": [
    "epochs = 1000\n",
    "batch_size = 64\n",
    "smooth = 0.1\n",
    "\n",
    "real = np.ones(shape=(batch_size, 1))\n",
    "fake = np.zeros(shape=(batch_size, 1))\n",
    "\n",
    "d_loss = []\n",
    "d_g_loss = []\n",
    "\n",
    "for e in range(epochs + 1):\n",
    "    for i in range(len(X_train) // batch_size):\n",
    "        \n",
    "        # Train Discriminator weights\n",
    "        discriminator.trainable = True\n",
    "        \n",
    "        # Real samples\n",
    "        X_batch = X_train[i*batch_size:(i+1)*batch_size]\n",
    "        d_loss_real = discriminator.train_on_batch(x=X_batch, y=real * (1 - smooth))\n",
    "        \n",
    "        # Fake Samples\n",
    "        z = np.random.normal(loc=0, scale=1, size=(batch_size, latent_dim))\n",
    "        X_fake = generator.predict_on_batch(z)\n",
    "        d_loss_fake = discriminator.train_on_batch(x=X_fake, y=fake)\n",
    "         \n",
    "        # Discriminator loss\n",
    "        d_loss_batch = 0.5 * (d_loss_real[0] + d_loss_fake[0])\n",
    "        \n",
    "        # Train Generator weights\n",
    "        discriminator.trainable = False\n",
    "        d_g_loss_batch = d_g.train_on_batch(x=z, y=real)\n",
    "\n",
    "        print(\n",
    "            'epoch = %d/%d, batch = %d/%d, d_loss=%.3f, g_loss=%.3f' % (e + 1, epochs, i, len(X_train) // batch_size, d_loss_batch, d_g_loss_batch[0]),\n",
    "            100*' ',\n",
    "            end='\\r'\n",
    "        )\n",
    "    \n",
    "    d_loss.append(d_loss_batch)\n",
    "    d_g_loss.append(d_g_loss_batch[0])\n",
    "    print('epoch = %d/%d, d_loss=%.3f, g_loss=%.3f' % (e + 1, epochs, d_loss[-1], d_g_loss[-1]), 100*' ')\n",
    "\n",
    "    if e % 10 == 0:\n",
    "        samples = 10\n",
    "        x_fake = generator.predict(np.random.normal(loc=0, scale=1, size=(samples, latent_dim)))\n",
    "\n",
    "        for k in range(samples):\n",
    "            plt.subplot(2, 5, k+1)\n",
    "            plt.imshow(x_fake[k].reshape(28, 28), cmap='gray')\n",
    "            plt.xticks([])\n",
    "            plt.yticks([])\n",
    "\n",
    "        plt.tight_layout()\n",
    "        plt.show()"
   ]
  },
  {
   "cell_type": "code",
   "execution_count": null,
   "metadata": {
    "colab": {
     "base_uri": "https://localhost:8080/",
     "height": 472
    },
    "executionInfo": {
     "elapsed": 652,
     "status": "ok",
     "timestamp": 1681645504001,
     "user": {
      "displayName": "Rishabh Srivastav",
      "userId": "14832860422721937078"
     },
     "user_tz": 240
    },
    "id": "L37gQqmDcF2d",
    "outputId": "4cb759d4-9d86-413d-881f-cf4c94d0c99d"
   },
   "outputs": [],
   "source": [
    "# plotting the metrics\n",
    "plt.plot(d_loss)\n",
    "plt.plot(d_g_loss)\n",
    "plt.title('Model loss')\n",
    "plt.ylabel('Loss')\n",
    "plt.xlabel('Epoch')\n",
    "plt.legend(['Discriminator', 'Adversarial'], loc='center right')\n",
    "plt.show()"
   ]
  }
 ],
 "metadata": {
  "accelerator": "GPU",
  "colab": {
   "authorship_tag": "ABX9TyMqhSY7viblP0Qi5ud7IGVZ",
   "provenance": []
  },
  "gpuClass": "standard",
  "kernelspec": {
   "display_name": "Python 3 (ipykernel)",
   "language": "python",
   "name": "python3"
  },
  "language_info": {
   "codemirror_mode": {
    "name": "ipython",
    "version": 3
   },
   "file_extension": ".py",
   "mimetype": "text/x-python",
   "name": "python",
   "nbconvert_exporter": "python",
   "pygments_lexer": "ipython3",
   "version": "3.9.13"
  }
 },
 "nbformat": 4,
 "nbformat_minor": 1
}
