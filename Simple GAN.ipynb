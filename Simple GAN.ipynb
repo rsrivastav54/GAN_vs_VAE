{
 "cells": [
  {
   "cell_type": "code",
   "execution_count": null,
   "metadata": {
    "executionInfo": {
     "elapsed": 238,
     "status": "ok",
     "timestamp": 1681968691514,
     "user": {
      "displayName": "Rishabh Srivastav",
      "userId": "14832860422721937078"
     },
     "user_tz": 240
    },
    "id": "dRa4G7HZN4zK"
   },
   "outputs": [],
   "source": [
    "%matplotlib inline\n",
    "import matplotlib.pyplot as plt\n",
    "\n",
    "import numpy as np"
   ]
  },
  {
   "cell_type": "code",
   "execution_count": null,
   "metadata": {
    "executionInfo": {
     "elapsed": 5308,
     "status": "ok",
     "timestamp": 1681968697045,
     "user": {
      "displayName": "Rishabh Srivastav",
      "userId": "14832860422721937078"
     },
     "user_tz": 240
    },
    "id": "vFQAFf7gPijL"
   },
   "outputs": [],
   "source": [
    "from tensorflow.keras import initializers\n",
    "from tensorflow.keras.datasets import mnist\n",
    "from tensorflow.keras.layers import BatchNormalization, Dense, LeakyReLU\n",
    "from tensorflow.keras.models import Sequential\n",
    "from tensorflow.keras.optimizers.legacy import Adam"
   ]
  },
  {
   "cell_type": "code",
   "execution_count": null,
   "metadata": {
    "colab": {
     "base_uri": "https://localhost:8080/"
    },
    "executionInfo": {
     "elapsed": 655,
     "status": "ok",
     "timestamp": 1681968697697,
     "user": {
      "displayName": "Rishabh Srivastav",
      "userId": "14832860422721937078"
     },
     "user_tz": 240
    },
    "id": "VBKE2jejPvrk",
    "outputId": "96814fde-6b11-4eca-c537-c3e57e13017d"
   },
   "outputs": [],
   "source": [
    "# load dataset\n",
    "(X_train, y_train), (X_test, y_test) = mnist.load_data()"
   ]
  },
  {
   "cell_type": "code",
   "execution_count": null,
   "metadata": {
    "colab": {
     "base_uri": "https://localhost:8080/",
     "height": 371
    },
    "executionInfo": {
     "elapsed": 1147,
     "status": "ok",
     "timestamp": 1681968698843,
     "user": {
      "displayName": "Rishabh Srivastav",
      "userId": "14832860422721937078"
     },
     "user_tz": 240
    },
    "id": "A-JJG83-Py99",
    "outputId": "2d7e9d4e-417d-4404-d838-f5ef047d3d04"
   },
   "outputs": [],
   "source": [
    "fig = plt.figure()\n",
    "for i in range(10):\n",
    "    plt.subplot(2, 5, i+1)\n",
    "    x_y = X_train[y_train == i]\n",
    "    plt.imshow(x_y[0], cmap='gray', interpolation='none')\n",
    "    plt.title(\"Class %d\" % (i))\n",
    "    plt.xticks([])\n",
    "    plt.yticks([])\n",
    "    \n",
    "plt.tight_layout()"
   ]
  },
  {
   "cell_type": "code",
   "execution_count": null,
   "metadata": {
    "colab": {
     "base_uri": "https://localhost:8080/"
    },
    "executionInfo": {
     "elapsed": 4,
     "status": "ok",
     "timestamp": 1681968698843,
     "user": {
      "displayName": "Rishabh Srivastav",
      "userId": "14832860422721937078"
     },
     "user_tz": 240
    },
    "id": "bav3-fD6P09z",
    "outputId": "8dd58dae-a814-4e6a-a5bd-b628e72a8f50"
   },
   "outputs": [],
   "source": [
    "print('X_train.shape', X_train.shape)\n",
    "\n",
    "# reshaping the inputs\n",
    "X_train = X_train.reshape(60000, 28*28)\n",
    "\n",
    "# normalizing the inputs (-1, 1)\n",
    "X_train = (X_train.astype('float32') / 255 - 0.5) * 2\n",
    "\n",
    "print('X_train reshape:', X_train.shape)"
   ]
  },
  {
   "cell_type": "code",
   "execution_count": null,
   "metadata": {
    "executionInfo": {
     "elapsed": 4082,
     "status": "ok",
     "timestamp": 1681968702922,
     "user": {
      "displayName": "Rishabh Srivastav",
      "userId": "14832860422721937078"
     },
     "user_tz": 240
    },
    "id": "znm4X-NnP25H"
   },
   "outputs": [],
   "source": [
    "# latent space dimension\n",
    "latent_dim = 100\n",
    "\n",
    "# imagem dimension 28x28\n",
    "img_dim = 784\n",
    "\n",
    "init = initializers.RandomNormal(stddev=0.02)\n",
    "\n",
    "# Generator network\n",
    "generator = Sequential()\n",
    "\n",
    "# Input layer and hidden layer 1\n",
    "generator.add(Dense(128, input_shape=(latent_dim,), kernel_initializer=init))\n",
    "generator.add(LeakyReLU(alpha=0.2))\n",
    "generator.add(BatchNormalization(momentum=0.8))\n",
    "\n",
    "# Hidden layer 2\n",
    "generator.add(Dense(256))\n",
    "generator.add(LeakyReLU(alpha=0.2))\n",
    "generator.add(BatchNormalization(momentum=0.8))\n",
    "\n",
    "# Hidden layer 3\n",
    "generator.add(Dense(512))\n",
    "generator.add(LeakyReLU(alpha=0.2))\n",
    "generator.add(BatchNormalization(momentum=0.8))\n",
    "\n",
    "# Output layer \n",
    "generator.add(Dense(img_dim, activation='tanh'))"
   ]
  },
  {
   "cell_type": "code",
   "execution_count": null,
   "metadata": {
    "colab": {
     "base_uri": "https://localhost:8080/"
    },
    "executionInfo": {
     "elapsed": 20,
     "status": "ok",
     "timestamp": 1681968702923,
     "user": {
      "displayName": "Rishabh Srivastav",
      "userId": "14832860422721937078"
     },
     "user_tz": 240
    },
    "id": "ZIZJJk5nP5CG",
    "outputId": "5b81f75a-bfe5-443c-af6e-07bae1643c3a"
   },
   "outputs": [],
   "source": [
    "# prints a summary representation of your model\n",
    "generator.summary()"
   ]
  },
  {
   "cell_type": "code",
   "execution_count": null,
   "metadata": {
    "colab": {
     "base_uri": "https://localhost:8080/"
    },
    "executionInfo": {
     "elapsed": 13,
     "status": "ok",
     "timestamp": 1681968702923,
     "user": {
      "displayName": "Rishabh Srivastav",
      "userId": "14832860422721937078"
     },
     "user_tz": 240
    },
    "id": "bvbTUs-gP63n",
    "outputId": "c1cc8d4e-9726-4ee8-e028-e1c7c12478c0"
   },
   "outputs": [],
   "source": [
    "# Discriminator network\n",
    "discriminator = Sequential()\n",
    "\n",
    "# Input layer and hidden layer 1\n",
    "discriminator.add(Dense(128, input_shape=(img_dim,), kernel_initializer=init))\n",
    "discriminator.add(LeakyReLU(alpha=0.2))\n",
    "\n",
    "# Hidden layer 2\n",
    "discriminator.add(Dense(256))\n",
    "discriminator.add(LeakyReLU(alpha=0.2))\n",
    "\n",
    "# Hidden layer 3\n",
    "discriminator.add(Dense(512))\n",
    "discriminator.add(LeakyReLU(alpha=0.2))\n",
    "\n",
    "# Output layer\n",
    "discriminator.add(Dense(1, activation='sigmoid'))"
   ]
  },
  {
   "cell_type": "code",
   "execution_count": null,
   "metadata": {
    "colab": {
     "base_uri": "https://localhost:8080/"
    },
    "executionInfo": {
     "elapsed": 11,
     "status": "ok",
     "timestamp": 1681968702923,
     "user": {
      "displayName": "Rishabh Srivastav",
      "userId": "14832860422721937078"
     },
     "user_tz": 240
    },
    "id": "Bep7sD5TP8_b",
    "outputId": "5b427943-bc79-4998-a5bc-28796fb0dd4c"
   },
   "outputs": [],
   "source": [
    "# prints a summary representation of your model\n",
    "discriminator.summary()"
   ]
  },
  {
   "cell_type": "code",
   "execution_count": null,
   "metadata": {
    "colab": {
     "base_uri": "https://localhost:8080/"
    },
    "executionInfo": {
     "elapsed": 7,
     "status": "ok",
     "timestamp": 1681968702923,
     "user": {
      "displayName": "Rishabh Srivastav",
      "userId": "14832860422721937078"
     },
     "user_tz": 240
    },
    "id": "4MBteqlGP_Pl",
    "outputId": "139e8b4f-f632-4678-ec7c-6e329d8719ba"
   },
   "outputs": [],
   "source": [
    "# Optimizer\n",
    "optimizer = Adam(lr=0.0002, beta_1=0.5)\n",
    "\n",
    "discriminator.compile(optimizer=optimizer, loss='binary_crossentropy', metrics=['binary_accuracy'])\n"
   ]
  },
  {
   "cell_type": "code",
   "execution_count": null,
   "metadata": {
    "executionInfo": {
     "elapsed": 7,
     "status": "ok",
     "timestamp": 1681968702924,
     "user": {
      "displayName": "Rishabh Srivastav",
      "userId": "14832860422721937078"
     },
     "user_tz": 240
    },
    "id": "Pt78uTLrQCDH"
   },
   "outputs": [],
   "source": [
    "discriminator.trainable = False\n",
    "\n",
    "d_g = Sequential()\n",
    "d_g.add(generator)\n",
    "d_g.add(discriminator)\n",
    "d_g.compile(optimizer=optimizer, loss='binary_crossentropy', metrics=['binary_accuracy'])"
   ]
  },
  {
   "cell_type": "code",
   "execution_count": null,
   "metadata": {
    "colab": {
     "base_uri": "https://localhost:8080/"
    },
    "executionInfo": {
     "elapsed": 310,
     "status": "ok",
     "timestamp": 1681968703227,
     "user": {
      "displayName": "Rishabh Srivastav",
      "userId": "14832860422721937078"
     },
     "user_tz": 240
    },
    "id": "7k8-JBVzQEpY",
    "outputId": "9f60e003-e7fc-492f-b38c-a03882a0c576"
   },
   "outputs": [],
   "source": [
    "# prints a summary representation of your model\n",
    "d_g.summary()"
   ]
  },
  {
   "cell_type": "code",
   "execution_count": null,
   "metadata": {
    "colab": {
     "base_uri": "https://localhost:8080/",
     "height": 1000
    },
    "executionInfo": {
     "elapsed": 67689,
     "status": "ok",
     "timestamp": 1681971892531,
     "user": {
      "displayName": "Rishabh Srivastav",
      "userId": "14832860422721937078"
     },
     "user_tz": 240
    },
    "id": "Yq3uxJkIQHI4",
    "outputId": "6b84438b-c6ce-4cf1-f2ba-be073eb316ad"
   },
   "outputs": [],
   "source": [
    "epochs = 100\n",
    "batch_size = 64\n",
    "smooth = 0.1\n",
    "\n",
    "real = np.ones(shape=(batch_size, 1))\n",
    "fake = np.zeros(shape=(batch_size, 1))\n",
    "\n",
    "d_loss = []\n",
    "d_g_loss = []\n",
    "\n",
    "for e in range(epochs + 1):\n",
    "    for i in range(len(X_train) // batch_size):\n",
    "\n",
    "        # Train Discriminator weights\n",
    "        discriminator.trainable = True\n",
    "\n",
    "        # Real samples\n",
    "        X_batch = X_train[i * batch_size : (i + 1) * batch_size]\n",
    "        d_loss_real = discriminator.train_on_batch(\n",
    "            x=X_batch, y=real * (1 - smooth)\n",
    "        )\n",
    "\n",
    "        # Fake Samples\n",
    "        z = np.random.normal(loc=0, scale=1, size=(batch_size, latent_dim))\n",
    "        X_fake = generator.predict_on_batch(z)\n",
    "        d_loss_fake = discriminator.train_on_batch(x=X_fake, y=fake)\n",
    "\n",
    "        # Discriminator loss\n",
    "        d_loss_batch = 0.5 * (d_loss_real[0] + d_loss_fake[0])\n",
    "\n",
    "        # Train Generator weights\n",
    "        discriminator.trainable = False\n",
    "        d_g_loss_batch = d_g.train_on_batch(x=z, y=real)\n",
    "\n",
    "        print(\n",
    "            \"epoch = %d/%d, batch = %d/%d, d_loss=%.3f, g_loss=%.3f\"\n",
    "            % (\n",
    "                e + 1,\n",
    "                epochs,\n",
    "                i,\n",
    "                len(X_train) // batch_size,\n",
    "                d_loss_batch,\n",
    "                d_g_loss_batch[0],\n",
    "            ),\n",
    "            100 * \" \",\n",
    "            end=\"\\r\",\n",
    "        )\n",
    "\n",
    "    d_loss.append(d_loss_batch)\n",
    "    d_g_loss.append(d_g_loss_batch[0])\n",
    "    print(\n",
    "        \"epoch = %d/%d, d_loss=%.3f, g_loss=%.3f\"\n",
    "        % (e + 1, epochs, d_loss[-1], d_g_loss[-1]),\n",
    "        100 * \" \",\n",
    "    )\n",
    "\n",
    "    if e % 10 == 0:\n",
    "        samples = 10\n",
    "        x_fake = generator.predict(\n",
    "            np.random.normal(loc=0, scale=1, size=(samples, latent_dim))\n",
    "        )\n",
    "\n",
    "        for k in range(samples):\n",
    "            plt.subplot(2, 5, k + 1)\n",
    "            plt.imshow(x_fake[k].reshape(28, 28), cmap=\"gray\")\n",
    "            plt.xticks([])\n",
    "            plt.yticks([])\n",
    "\n",
    "        plt.tight_layout()\n",
    "        plt.show()"
   ]
  },
  {
   "cell_type": "code",
   "execution_count": null,
   "metadata": {
    "colab": {
     "base_uri": "https://localhost:8080/",
     "height": 472
    },
    "executionInfo": {
     "elapsed": 384,
     "status": "ok",
     "timestamp": 1681971892915,
     "user": {
      "displayName": "Rishabh Srivastav",
      "userId": "14832860422721937078"
     },
     "user_tz": 240
    },
    "id": "RVBy2mOoQKru",
    "outputId": "2cb35895-b287-498d-d5ee-2d863010b0dd"
   },
   "outputs": [],
   "source": [
    "# plotting the metrics\n",
    "plt.plot(d_loss)\n",
    "plt.plot(d_g_loss)\n",
    "plt.title('Model loss')\n",
    "plt.ylabel('Loss')\n",
    "plt.xlabel('Epoch')\n",
    "plt.legend(['Discriminator', 'Adversarial'], loc='center right')\n",
    "plt.show()"
   ]
  }
 ],
 "metadata": {
  "accelerator": "GPU",
  "colab": {
   "authorship_tag": "ABX9TyPpYdk1/No3H2n/WqhZuyMS",
   "provenance": []
  },
  "gpuClass": "standard",
  "kernelspec": {
   "display_name": "Python 3 (ipykernel)",
   "language": "python",
   "name": "python3"
  },
  "language_info": {
   "codemirror_mode": {
    "name": "ipython",
    "version": 3
   },
   "file_extension": ".py",
   "mimetype": "text/x-python",
   "name": "python",
   "nbconvert_exporter": "python",
   "pygments_lexer": "ipython3",
   "version": "3.9.13"
  }
 },
 "nbformat": 4,
 "nbformat_minor": 1
}
